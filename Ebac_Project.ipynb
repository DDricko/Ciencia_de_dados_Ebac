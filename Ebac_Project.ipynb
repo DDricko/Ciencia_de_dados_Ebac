{
  "cells": [
    {
      "cell_type": "markdown",
      "metadata": {
        "id": "view-in-github",
        "colab_type": "text"
      },
      "source": [
        "<a href=\"https://colab.research.google.com/github/DDricko/Ciencia_de_dados_Ebac/blob/main/Ebac_Project.ipynb\" target=\"_parent\"><img src=\"https://colab.research.google.com/assets/colab-badge.svg\" alt=\"Open In Colab\"/></a>"
      ]
    },
    {
      "cell_type": "markdown",
      "source": [
        "##Etapa 1: Introdução"
      ],
      "metadata": {
        "id": "W1X7mzN-U7zD"
      }
    },
    {
      "cell_type": "markdown",
      "source": [
        "Este projeto tem como objetivo explorar um conjunto de dados de clientes de uma instituição financeira, realizando limpeza, visualização e análise para identificar padrões de comportamento e oportunidades de negócio."
      ],
      "metadata": {
        "id": "r6vKStzZVEP1"
      }
    },
    {
      "cell_type": "markdown",
      "source": [
        "##Etapa 2: Contexto de dados"
      ],
      "metadata": {
        "id": "WzjQmLJaVKGt"
      }
    },
    {
      "cell_type": "markdown",
      "source": [
        "1. Dicionário de dados"
      ],
      "metadata": {
        "id": "lJGExXqSWazS"
      }
    },
    {
      "cell_type": "markdown",
      "source": [
        "| Coluna                | Descrição                                                    |\n",
        "| :-------------------- | :----------------------------------------------------------- |\n",
        "| idade                 | Idade do cliente                                             |\n",
        "| sexo                  | Sexo do cliente (M ou F)                                     |\n",
        "| dependentes           | Número de dependentes do cliente                             |\n",
        "| escolaridade          | Nível de escolaridade do cliente                             |\n",
        "| estado_civil          | Estado civil do cliente                                      |\n",
        "| salario_anual         | Faixa de salário anual do cliente                            |\n",
        "| tipo_cartao           | Tipo de cartão de crédito do cliente (blue, silver, gold, platinum) |\n",
        "| meses_de_relacionamento | Tempo de relacionamento com o banco (em meses)             |\n",
        "| qtd_produtos          | Quantidade de produtos bancários adquiridos                |\n",
        "| iteracoes_12m         | Número de interações com o banco nos últimos 12 meses        |\n",
        "| meses_inativo_12m     | Número de meses inativo nos últimos 12 meses                 |\n",
        "| limite_credito        | Limite de crédito disponível para o cliente                  |\n",
        "| valor_transacoes_12m  | Valor total das transações realizadas nos últimos 12 meses   |\n",
        "| qtd_transacoes_12m    | Quantidade de transações realizadas nos últimos 12 meses     |"
      ],
      "metadata": {
        "id": "6s3fF77NXCFI"
      }
    },
    {
      "cell_type": "markdown",
      "source": [
        "##Etapa 3: Carregar e Preparar os dados.\n",
        "###Objetivo: Ler o arquivo csv e preparar os dados pra análise.*italicized text*"
      ],
      "metadata": {
        "id": "nIhFVBDfSmSO"
      }
    },
    {
      "cell_type": "markdown",
      "source": [
        "1. Importar bibliotecas"
      ],
      "metadata": {
        "id": "KDtSl0kGS2_k"
      }
    },
    {
      "cell_type": "code",
      "source": [
        "import pandas as pd\n",
        "import matplotlib.pyplot as plt\n",
        "import seaborn as sns"
      ],
      "metadata": {
        "id": "JJwkgs0_JvtO"
      },
      "execution_count": null,
      "outputs": []
    },
    {
      "cell_type": "markdown",
      "source": [
        "2. Carregar o arquivo:"
      ],
      "metadata": {
        "id": "vxKZT9UxLMVS"
      }
    },
    {
      "cell_type": "code",
      "source": [
        "df = pd.read_csv('Python_M11_support material.csv', index_col=0)"
      ],
      "metadata": {
        "id": "P_LLku_lLQIN"
      },
      "execution_count": null,
      "outputs": []
    },
    {
      "cell_type": "markdown",
      "source": [
        "3. Corrigir formatação numérica(valores com virgula e ponto):"
      ],
      "metadata": {
        "id": "CbeQdewSLgKq"
      }
    },
    {
      "cell_type": "code",
      "source": [
        "df['limite_credito'] = df['limite_credito'].str.replace('.', '').str.replace(',', '.').astype(float)\n",
        "df['valor_transacoes_12m'] = df['valor_transacoes_12m'].str.replace('.', '').str.replace(',', '.').astype(float)"
      ],
      "metadata": {
        "id": "YQM-LpKKLoPf"
      },
      "execution_count": null,
      "outputs": []
    },
    {
      "cell_type": "markdown",
      "source": [
        "##Etapa 4: Exploração e limpeza\n",
        "###Objetivo: Verificar dados ausentes e entender a estrutura.*italicized text*"
      ],
      "metadata": {
        "id": "LosIVm7MR9zG"
      }
    },
    {
      "cell_type": "markdown",
      "source": [
        "1. Verificar valores ausentes:"
      ],
      "metadata": {
        "id": "iKrS68aNLyXz"
      }
    },
    {
      "cell_type": "code",
      "source": [
        "df.isnull().sum()"
      ],
      "metadata": {
        "id": "PJYzLDfyLyIX"
      },
      "execution_count": null,
      "outputs": []
    },
    {
      "cell_type": "markdown",
      "source": [
        "2. Estatísticas descritivas:"
      ],
      "metadata": {
        "id": "BdUeejb4L_FC"
      }
    },
    {
      "cell_type": "code",
      "source": [
        "df.describe(include='all')"
      ],
      "metadata": {
        "id": "EpOYcAuzMC2a"
      },
      "execution_count": null,
      "outputs": []
    },
    {
      "cell_type": "markdown",
      "source": [
        "##Etapa 5: Visualização de dados\n",
        "\n",
        "###Objetivo: criar gráficos para entender padrões."
      ],
      "metadata": {
        "id": "ItOls16oQZr6"
      }
    },
    {
      "cell_type": "markdown",
      "source": [
        "1. Distribuição de idade:"
      ],
      "metadata": {
        "id": "yv-smjOlQma3"
      }
    },
    {
      "cell_type": "code",
      "source": [
        "sns.histplot(df['idade'], bins=30, kde=True)"
      ],
      "metadata": {
        "id": "h8codozYQqYy"
      },
      "execution_count": null,
      "outputs": []
    },
    {
      "cell_type": "markdown",
      "source": [
        "2. Distribuição por sexo:"
      ],
      "metadata": {
        "id": "AA_XJRrSRDkd"
      }
    },
    {
      "cell_type": "code",
      "source": [
        "sns.countplot(x='sexo', data=df)"
      ],
      "metadata": {
        "id": "kwBzYCCnRG4n"
      },
      "execution_count": null,
      "outputs": []
    },
    {
      "cell_type": "markdown",
      "source": [
        "3. Distribuição por escolaridade:"
      ],
      "metadata": {
        "id": "vbv5v44zRMNs"
      }
    },
    {
      "cell_type": "code",
      "source": [
        "sns.countplot(x='escolaridade', data=df)"
      ],
      "metadata": {
        "id": "j1Bt_xSxRQwF"
      },
      "execution_count": null,
      "outputs": []
    },
    {
      "cell_type": "markdown",
      "source": [
        "4. Distribuição por tipo de cartão:"
      ],
      "metadata": {
        "id": "XNTc2spQRVVZ"
      }
    },
    {
      "cell_type": "code",
      "source": [
        "sns.boxplot(x='tipo_cartao', y='valor_transacoes_12m')"
      ],
      "metadata": {
        "id": "71BCCaU9RVDw"
      },
      "execution_count": null,
      "outputs": []
    },
    {
      "cell_type": "markdown",
      "source": [
        "##Etapa 6: Principais Descobertas"
      ],
      "metadata": {
        "id": "N2nyWLbATVYn"
      }
    },
    {
      "cell_type": "markdown",
      "source": [
        "\n",
        "- A maioria dos clientes tem entre 40 e 50 anos.\n",
        "- O cartão mais comum é o **blue**, mas os cartões **gold** e **platinum** têm limites de crédito mais altos.\n",
        "- Clientes com maior escolaridade tendem a ter limites de crédito mais elevados.\n",
        "- O valor de transações varia bastante entre os tipos de cartão, indicando perfis de uso distintos.\n"
      ],
      "metadata": {
        "id": "zt5H102CUiPR"
      }
    },
    {
      "cell_type": "markdown",
      "source": [
        "##Etapa 7: Conclusão\n",
        "\n"
      ],
      "metadata": {
        "id": "9_m2Z7v3UxDo"
      }
    },
    {
      "cell_type": "markdown",
      "source": [
        "A análise revelou padrões importantes de inadimplência.\n",
        "A análise revelou padrões importantes que podem ser usados para segmentar clientes, ajustar limites de crédito e personalizar ofertas. Como próximos passos, recomenda-se aplicar modelos preditivos para identificar clientes com maior risco"
      ],
      "metadata": {
        "id": "wIL1WNnSU3WM"
      }
    },
    {
      "cell_type": "markdown",
      "metadata": {
        "id": "ad619d76"
      },
      "source": []
    }
  ],
  "metadata": {
    "colab": {
      "provenance": [],
      "include_colab_link": true
    },
    "kernelspec": {
      "display_name": "Python 3",
      "name": "python3"
    }
  },
  "nbformat": 4,
  "nbformat_minor": 0
}